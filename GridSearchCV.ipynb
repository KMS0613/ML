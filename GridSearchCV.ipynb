{
 "cells": [
  {
   "cell_type": "markdown",
   "id": "df53f6a4",
   "metadata": {},
   "source": [
    "#### sklearn.model_selection.GridSearchCV\n",
    "\n",
    "- class sklearn.model_selection.GridSearchCV(estimator, param_grid(dict거나 리스트 딕트. ), *, scoring=None, n_jobs=None, refit=True, cv=None, verbose=0, pre_dispatch='2*n_jobs', error_score=nan, return_train_score=False)\n",
    "\n",
    "- param_grid 예시. {'max_depth : [1,2,7] , 'min_sample_split: [1,2,3]'}  << 사전형식의 리스트. param_grid는 estimator의 하이퍼 파라미터들임. \n",
    "\n",
    "- n_jobs=None << 병렬처리 해주는거임. 이거 해줘야 컴퓨터 과부하 덜 걸릴것임. \n",
    "\n",
    "- refit은 최적화 가장 좋은 변수 알아서 선택해주고 출력해줌 \n",
    "\n",
    "- cv를 지정해주는게 cross validation. estimator는 모델. verbose는 설명 킬건지 끌건지. \n",
    "\n",
    "\n",
    "\n",
    "-   Attributes:\n",
    "    cv_results_dict of numpy (masked) ndarrays\n",
    "    A dict with keys as column headers and values as columns, that can be imported into a pandas DataFrame.\n",
    "    \n",
    "    우리가 객체인 클래스를 통해 학습기를 돌렸음. 따라서 글로벌 변수들이 나올건데, 어떤 글로벌 변수들이 저장되어 있는지가 Attributes에 저장     되어 있음. 또한 클래스엔 method가 있음. (함수) \n",
    "    \n",
    "    ex) clf.cv_results_keys() <<clf 모델을 사용했을 때 결과값의 키값 알려줘. "
   ]
  },
  {
   "cell_type": "code",
   "execution_count": 7,
   "id": "c8271181",
   "metadata": {},
   "outputs": [],
   "source": [
    "from sklearn.datasets import load_iris \n",
    "from sklearn.tree import DecisionTreeClassifier\n",
    "from sklearn.model_selection import GridSearchCV\n",
    "from sklearn.model_selection import train_test_split\n",
    "\n",
    "iris = load_iris()\n",
    "iris_data = iris\n",
    "X_train, X_test, y_train, y_test = train_test_split(iris_data.data, iris_data.target, test_size = 0.2, random_state = 121)\n",
    "\n",
    "dtree= DecisionTreeClassifier()\n",
    "\n",
    "parameter = {'max_depth':[2,3,5], 'min_samples_split':[5,10]}"
   ]
  },
  {
   "cell_type": "code",
   "execution_count": 9,
   "id": "75596d51",
   "metadata": {},
   "outputs": [],
   "source": [
    "import pandas as pd \n",
    "\n",
    "grid_tree = GridSearchCV(dtree, parameter, cv=3, refit= True)\n",
    "\n",
    "grid_tree.fit(X_train,y_train)\n",
    "\n",
    "scores = pd.DataFrame(grid_tree.cv_results_)"
   ]
  },
  {
   "cell_type": "code",
   "execution_count": 13,
   "id": "1028e68a",
   "metadata": {},
   "outputs": [
    {
     "data": {
      "text/html": [
       "<div>\n",
       "<style scoped>\n",
       "    .dataframe tbody tr th:only-of-type {\n",
       "        vertical-align: middle;\n",
       "    }\n",
       "\n",
       "    .dataframe tbody tr th {\n",
       "        vertical-align: top;\n",
       "    }\n",
       "\n",
       "    .dataframe thead th {\n",
       "        text-align: right;\n",
       "    }\n",
       "</style>\n",
       "<table border=\"1\" class=\"dataframe\">\n",
       "  <thead>\n",
       "    <tr style=\"text-align: right;\">\n",
       "      <th></th>\n",
       "      <th>params</th>\n",
       "      <th>mean_test_score</th>\n",
       "      <th>rank_test_score</th>\n",
       "      <th>split0_test_score</th>\n",
       "      <th>split1_test_score</th>\n",
       "      <th>split2_test_score</th>\n",
       "    </tr>\n",
       "  </thead>\n",
       "  <tbody>\n",
       "    <tr>\n",
       "      <th>0</th>\n",
       "      <td>{'max_depth': 2, 'min_samples_split': 2}</td>\n",
       "      <td>0.958333</td>\n",
       "      <td>4</td>\n",
       "      <td>0.925</td>\n",
       "      <td>1.0</td>\n",
       "      <td>0.950</td>\n",
       "    </tr>\n",
       "    <tr>\n",
       "      <th>1</th>\n",
       "      <td>{'max_depth': 2, 'min_samples_split': 3}</td>\n",
       "      <td>0.958333</td>\n",
       "      <td>4</td>\n",
       "      <td>0.925</td>\n",
       "      <td>1.0</td>\n",
       "      <td>0.950</td>\n",
       "    </tr>\n",
       "    <tr>\n",
       "      <th>2</th>\n",
       "      <td>{'max_depth': 3, 'min_samples_split': 2}</td>\n",
       "      <td>0.975000</td>\n",
       "      <td>1</td>\n",
       "      <td>0.975</td>\n",
       "      <td>1.0</td>\n",
       "      <td>0.950</td>\n",
       "    </tr>\n",
       "    <tr>\n",
       "      <th>3</th>\n",
       "      <td>{'max_depth': 3, 'min_samples_split': 3}</td>\n",
       "      <td>0.975000</td>\n",
       "      <td>1</td>\n",
       "      <td>0.975</td>\n",
       "      <td>1.0</td>\n",
       "      <td>0.950</td>\n",
       "    </tr>\n",
       "    <tr>\n",
       "      <th>4</th>\n",
       "      <td>{'max_depth': 5, 'min_samples_split': 2}</td>\n",
       "      <td>0.966667</td>\n",
       "      <td>3</td>\n",
       "      <td>0.975</td>\n",
       "      <td>1.0</td>\n",
       "      <td>0.925</td>\n",
       "    </tr>\n",
       "    <tr>\n",
       "      <th>5</th>\n",
       "      <td>{'max_depth': 5, 'min_samples_split': 3}</td>\n",
       "      <td>0.950000</td>\n",
       "      <td>6</td>\n",
       "      <td>0.925</td>\n",
       "      <td>1.0</td>\n",
       "      <td>0.925</td>\n",
       "    </tr>\n",
       "  </tbody>\n",
       "</table>\n",
       "</div>"
      ],
      "text/plain": [
       "                                     params  mean_test_score  rank_test_score  \\\n",
       "0  {'max_depth': 2, 'min_samples_split': 2}         0.958333                4   \n",
       "1  {'max_depth': 2, 'min_samples_split': 3}         0.958333                4   \n",
       "2  {'max_depth': 3, 'min_samples_split': 2}         0.975000                1   \n",
       "3  {'max_depth': 3, 'min_samples_split': 3}         0.975000                1   \n",
       "4  {'max_depth': 5, 'min_samples_split': 2}         0.966667                3   \n",
       "5  {'max_depth': 5, 'min_samples_split': 3}         0.950000                6   \n",
       "\n",
       "   split0_test_score  split1_test_score  split2_test_score  \n",
       "0              0.925                1.0              0.950  \n",
       "1              0.925                1.0              0.950  \n",
       "2              0.975                1.0              0.950  \n",
       "3              0.975                1.0              0.950  \n",
       "4              0.975                1.0              0.925  \n",
       "5              0.925                1.0              0.925  "
      ]
     },
     "execution_count": 13,
     "metadata": {},
     "output_type": "execute_result"
    }
   ],
   "source": [
    "scores[['params','mean_test_score','rank_test_score', 'split0_test_score', 'split1_test_score', 'split2_test_score'  ]]\n",
    "\n",
    "#grid_tree.best_estimator_"
   ]
  },
  {
   "cell_type": "code",
   "execution_count": 17,
   "id": "42b98dd2",
   "metadata": {},
   "outputs": [
    {
     "data": {
      "text/plain": [
       "{'max_depth': 3, 'min_samples_split': 2}"
      ]
     },
     "execution_count": 17,
     "metadata": {},
     "output_type": "execute_result"
    }
   ],
   "source": [
    "grid_tree.best_estimator_ #최고의 결과값. \n",
    "\n",
    "grid_tree.best_params_ #최고 파라미터. "
   ]
  },
  {
   "cell_type": "code",
   "execution_count": 20,
   "id": "189d322b",
   "metadata": {},
   "outputs": [
    {
     "data": {
      "text/plain": [
       "array([[0.        , 0.97142857, 0.02857143],\n",
       "       [0.        , 0.        , 1.        ],\n",
       "       [0.        , 0.97142857, 0.02857143],\n",
       "       [1.        , 0.        , 0.        ],\n",
       "       [1.        , 0.        , 0.        ],\n",
       "       [0.        , 0.97142857, 0.02857143],\n",
       "       [0.        , 0.97142857, 0.02857143],\n",
       "       [0.        , 0.97142857, 0.02857143],\n",
       "       [0.        , 0.97142857, 0.02857143],\n",
       "       [0.        , 0.        , 1.        ],\n",
       "       [0.        , 0.        , 1.        ],\n",
       "       [0.        , 0.97142857, 0.02857143],\n",
       "       [0.        , 0.97142857, 0.02857143],\n",
       "       [1.        , 0.        , 0.        ],\n",
       "       [1.        , 0.        , 0.        ],\n",
       "       [0.        , 0.        , 1.        ],\n",
       "       [0.        , 0.97142857, 0.02857143],\n",
       "       [1.        , 0.        , 0.        ],\n",
       "       [0.        , 0.        , 1.        ],\n",
       "       [1.        , 0.        , 0.        ],\n",
       "       [0.        , 0.        , 1.        ],\n",
       "       [0.        , 0.        , 1.        ],\n",
       "       [0.        , 0.97142857, 0.02857143],\n",
       "       [0.        , 0.97142857, 0.02857143],\n",
       "       [0.        , 0.97142857, 0.02857143],\n",
       "       [0.        , 0.97142857, 0.02857143],\n",
       "       [1.        , 0.        , 0.        ],\n",
       "       [1.        , 0.        , 0.        ],\n",
       "       [0.        , 0.        , 1.        ],\n",
       "       [0.        , 0.        , 1.        ]])"
      ]
     },
     "execution_count": 20,
     "metadata": {},
     "output_type": "execute_result"
    }
   ],
   "source": [
    "grid_tree.predict_proba(X_test) #각 라벨의 확률임. 첫번째값은 0일확률이 0, 1일 확률이 97.14%, 2일 확률이 0.028%"
   ]
  },
  {
   "cell_type": "code",
   "execution_count": null,
   "id": "6fbaecaa",
   "metadata": {},
   "outputs": [],
   "source": []
  }
 ],
 "metadata": {
  "kernelspec": {
   "display_name": "Python 3 (ipykernel)",
   "language": "python",
   "name": "python3"
  },
  "language_info": {
   "codemirror_mode": {
    "name": "ipython",
    "version": 3
   },
   "file_extension": ".py",
   "mimetype": "text/x-python",
   "name": "python",
   "nbconvert_exporter": "python",
   "pygments_lexer": "ipython3",
   "version": "3.11.5"
  }
 },
 "nbformat": 4,
 "nbformat_minor": 5
}
